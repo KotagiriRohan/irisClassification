{
 "cells": [
  {
   "cell_type": "code",
   "execution_count": 2,
   "id": "64344d61",
   "metadata": {},
   "outputs": [],
   "source": [
    "import tensorflow as tf\n",
    "import pandas as pd\n",
    "import numpy as np\n",
    "from tensorflow import keras\n",
    "from tensorflow.keras import layers"
   ]
  },
  {
   "cell_type": "code",
   "execution_count": 4,
   "id": "a80306bf",
   "metadata": {},
   "outputs": [
    {
     "data": {
      "text/plain": [
       "Id               0\n",
       "SepalLengthCm    0\n",
       "SepalWidthCm     0\n",
       "PetalLengthCm    0\n",
       "PetalWidthCm     0\n",
       "Species          0\n",
       "dtype: int64"
      ]
     },
     "execution_count": 4,
     "metadata": {},
     "output_type": "execute_result"
    }
   ],
   "source": [
    "df = pd.read_csv(\"Data/Iris.csv\")\n",
    "df.isnull().sum()"
   ]
  },
  {
   "cell_type": "code",
   "execution_count": 7,
   "id": "e2f61ae5",
   "metadata": {},
   "outputs": [],
   "source": [
    "from sklearn.model_selection import train_test_split\n",
    "\n",
    "shuffled_df = df.reindex(np.random.permutation(df.index)) \n",
    "\n",
    "features = [\"SepalLengthCm\",\"SepalWidthCm\",\"PetalLengthCm\",\"PetalWidthCm\" ]\n",
    "\n",
    "X = df[features]\n",
    "y = df[\"Species\"]\n",
    "\n",
    "train_X,val_X,train_y,val_y = train_test_split(X,y,random_state = 0)\n"
   ]
  },
  {
   "cell_type": "code",
   "execution_count": 30,
   "id": "3364681c",
   "metadata": {},
   "outputs": [],
   "source": [
    "from sklearn.preprocessing import OneHotEncoder\n",
    "oh_encoder = OneHotEncoder(sparse=False)\n",
    "y_train_encoded = pd.DataFrame(oh_encoder.fit_transform(train_y.to_numpy().reshape(-1, 1)))\n",
    "y_val_encoded = pd.DataFrame(oh_encoder.transform(val_y.to_numpy().reshape(-1, 1)))\n",
    "y_train_encoded.index = train_y.index\n",
    "y_val_encoded.index = val_y.index"
   ]
  },
  {
   "cell_type": "code",
   "execution_count": 68,
   "id": "544e6d04",
   "metadata": {},
   "outputs": [],
   "source": [
    "model = keras.Sequential([\n",
    "    layers.Dense(units=256,activation='relu',input_shape=[4]),\n",
    "    layers.Dense(units= 128, activation='relu'),\n",
    "    layers.Dense(units=64 , activation=\"relu\"),\n",
    "    layers.Dense(units=3,activation=\"softmax\")\n",
    "])\n",
    "\n",
    "model.compile(\n",
    "    optimizer = 'adam',\n",
    "    loss='categorical_crossentropy',\n",
    "    metrics = ['CategoricalAccuracy']\n",
    ")"
   ]
  },
  {
   "cell_type": "code",
   "execution_count": 69,
   "id": "cc927a90",
   "metadata": {},
   "outputs": [],
   "source": [
    "from tensorflow.keras import callbacks\n",
    "callback = callbacks.EarlyStopping(patience = 5,min_delta = 0.001,restore_best_weights = True)"
   ]
  },
  {
   "cell_type": "code",
   "execution_count": 70,
   "id": "2e5b2239",
   "metadata": {},
   "outputs": [
    {
     "name": "stdout",
     "output_type": "stream",
     "text": [
      "Epoch 1/100\n",
      "1/1 [==============================] - 1s 983ms/step - loss: 1.2049 - categorical_accuracy: 0.3036 - val_loss: 1.0762 - val_categorical_accuracy: 0.7632\n",
      "Epoch 2/100\n",
      "1/1 [==============================] - 0s 47ms/step - loss: 1.0917 - categorical_accuracy: 0.6071 - val_loss: 1.0745 - val_categorical_accuracy: 0.5789\n",
      "Epoch 3/100\n",
      "1/1 [==============================] - 0s 51ms/step - loss: 1.0411 - categorical_accuracy: 0.6964 - val_loss: 1.0801 - val_categorical_accuracy: 0.5789\n",
      "Epoch 4/100\n",
      "1/1 [==============================] - 0s 41ms/step - loss: 1.0116 - categorical_accuracy: 0.6964 - val_loss: 1.0729 - val_categorical_accuracy: 0.5789\n",
      "Epoch 5/100\n",
      "1/1 [==============================] - 0s 40ms/step - loss: 0.9809 - categorical_accuracy: 0.6964 - val_loss: 1.0579 - val_categorical_accuracy: 0.5789\n",
      "Epoch 6/100\n",
      "1/1 [==============================] - 0s 45ms/step - loss: 0.9514 - categorical_accuracy: 0.6964 - val_loss: 1.0301 - val_categorical_accuracy: 0.5789\n",
      "Epoch 7/100\n",
      "1/1 [==============================] - 0s 48ms/step - loss: 0.9229 - categorical_accuracy: 0.6964 - val_loss: 0.9955 - val_categorical_accuracy: 0.5789\n",
      "Epoch 8/100\n",
      "1/1 [==============================] - 0s 47ms/step - loss: 0.8955 - categorical_accuracy: 0.6964 - val_loss: 0.9551 - val_categorical_accuracy: 0.5789\n",
      "Epoch 9/100\n",
      "1/1 [==============================] - 0s 50ms/step - loss: 0.8668 - categorical_accuracy: 0.6964 - val_loss: 0.9159 - val_categorical_accuracy: 0.5789\n",
      "Epoch 10/100\n",
      "1/1 [==============================] - 0s 50ms/step - loss: 0.8399 - categorical_accuracy: 0.6964 - val_loss: 0.8776 - val_categorical_accuracy: 0.5789\n",
      "Epoch 11/100\n",
      "1/1 [==============================] - 0s 47ms/step - loss: 0.8144 - categorical_accuracy: 0.6964 - val_loss: 0.8419 - val_categorical_accuracy: 0.5789\n",
      "Epoch 12/100\n",
      "1/1 [==============================] - 0s 51ms/step - loss: 0.7892 - categorical_accuracy: 0.6964 - val_loss: 0.8103 - val_categorical_accuracy: 0.5789\n",
      "Epoch 13/100\n",
      "1/1 [==============================] - 0s 38ms/step - loss: 0.7643 - categorical_accuracy: 0.6964 - val_loss: 0.7827 - val_categorical_accuracy: 0.5789\n",
      "Epoch 14/100\n",
      "1/1 [==============================] - 0s 33ms/step - loss: 0.7388 - categorical_accuracy: 0.6964 - val_loss: 0.7570 - val_categorical_accuracy: 0.5789\n",
      "Epoch 15/100\n",
      "1/1 [==============================] - 0s 51ms/step - loss: 0.7111 - categorical_accuracy: 0.6964 - val_loss: 0.7298 - val_categorical_accuracy: 0.5789\n",
      "Epoch 16/100\n",
      "1/1 [==============================] - 0s 51ms/step - loss: 0.6788 - categorical_accuracy: 0.6964 - val_loss: 0.7062 - val_categorical_accuracy: 0.5789\n",
      "Epoch 17/100\n",
      "1/1 [==============================] - 0s 55ms/step - loss: 0.6477 - categorical_accuracy: 0.6964 - val_loss: 0.6855 - val_categorical_accuracy: 0.5789\n",
      "Epoch 18/100\n",
      "1/1 [==============================] - 0s 47ms/step - loss: 0.6212 - categorical_accuracy: 0.6964 - val_loss: 0.6613 - val_categorical_accuracy: 0.5789\n",
      "Epoch 19/100\n",
      "1/1 [==============================] - 0s 47ms/step - loss: 0.5952 - categorical_accuracy: 0.6964 - val_loss: 0.6354 - val_categorical_accuracy: 0.5789\n",
      "Epoch 20/100\n",
      "1/1 [==============================] - 0s 39ms/step - loss: 0.5705 - categorical_accuracy: 0.6964 - val_loss: 0.6092 - val_categorical_accuracy: 0.5789\n",
      "Epoch 21/100\n",
      "1/1 [==============================] - 0s 34ms/step - loss: 0.5462 - categorical_accuracy: 0.6964 - val_loss: 0.5839 - val_categorical_accuracy: 0.5789\n",
      "Epoch 22/100\n",
      "1/1 [==============================] - 0s 35ms/step - loss: 0.5225 - categorical_accuracy: 0.7143 - val_loss: 0.5597 - val_categorical_accuracy: 0.6053\n",
      "Epoch 23/100\n",
      "1/1 [==============================] - 0s 37ms/step - loss: 0.5006 - categorical_accuracy: 0.7411 - val_loss: 0.5355 - val_categorical_accuracy: 0.6579\n",
      "Epoch 24/100\n",
      "1/1 [==============================] - 0s 35ms/step - loss: 0.4796 - categorical_accuracy: 0.7946 - val_loss: 0.5115 - val_categorical_accuracy: 0.6842\n",
      "Epoch 25/100\n",
      "1/1 [==============================] - 0s 44ms/step - loss: 0.4581 - categorical_accuracy: 0.8393 - val_loss: 0.4886 - val_categorical_accuracy: 0.7368\n",
      "Epoch 26/100\n",
      "1/1 [==============================] - 0s 44ms/step - loss: 0.4365 - categorical_accuracy: 0.8661 - val_loss: 0.4732 - val_categorical_accuracy: 0.7368\n",
      "Epoch 27/100\n",
      "1/1 [==============================] - 0s 46ms/step - loss: 0.4177 - categorical_accuracy: 0.8839 - val_loss: 0.4604 - val_categorical_accuracy: 0.7368\n",
      "Epoch 28/100\n",
      "1/1 [==============================] - 0s 48ms/step - loss: 0.4019 - categorical_accuracy: 0.8929 - val_loss: 0.4455 - val_categorical_accuracy: 0.7368\n",
      "Epoch 29/100\n",
      "1/1 [==============================] - 0s 40ms/step - loss: 0.3859 - categorical_accuracy: 0.9018 - val_loss: 0.4278 - val_categorical_accuracy: 0.7632\n",
      "Epoch 30/100\n",
      "1/1 [==============================] - 0s 40ms/step - loss: 0.3698 - categorical_accuracy: 0.9107 - val_loss: 0.4089 - val_categorical_accuracy: 0.8158\n",
      "Epoch 31/100\n",
      "1/1 [==============================] - 0s 35ms/step - loss: 0.3544 - categorical_accuracy: 0.9464 - val_loss: 0.3911 - val_categorical_accuracy: 0.8684\n",
      "Epoch 32/100\n",
      "1/1 [==============================] - 0s 35ms/step - loss: 0.3403 - categorical_accuracy: 0.9464 - val_loss: 0.3764 - val_categorical_accuracy: 0.8947\n",
      "Epoch 33/100\n",
      "1/1 [==============================] - 0s 34ms/step - loss: 0.3273 - categorical_accuracy: 0.9554 - val_loss: 0.3656 - val_categorical_accuracy: 0.8947\n",
      "Epoch 34/100\n",
      "1/1 [==============================] - 0s 39ms/step - loss: 0.3146 - categorical_accuracy: 0.9554 - val_loss: 0.3575 - val_categorical_accuracy: 0.8947\n",
      "Epoch 35/100\n",
      "1/1 [==============================] - 0s 32ms/step - loss: 0.3021 - categorical_accuracy: 0.9554 - val_loss: 0.3494 - val_categorical_accuracy: 0.8684\n",
      "Epoch 36/100\n",
      "1/1 [==============================] - 0s 47ms/step - loss: 0.2897 - categorical_accuracy: 0.9554 - val_loss: 0.3390 - val_categorical_accuracy: 0.8947\n",
      "Epoch 37/100\n",
      "1/1 [==============================] - 0s 53ms/step - loss: 0.2770 - categorical_accuracy: 0.9554 - val_loss: 0.3248 - val_categorical_accuracy: 0.8947\n",
      "Epoch 38/100\n",
      "1/1 [==============================] - 0s 48ms/step - loss: 0.2640 - categorical_accuracy: 0.9643 - val_loss: 0.3089 - val_categorical_accuracy: 0.9211\n",
      "Epoch 39/100\n",
      "1/1 [==============================] - 0s 35ms/step - loss: 0.2510 - categorical_accuracy: 0.9643 - val_loss: 0.2954 - val_categorical_accuracy: 0.9474\n",
      "Epoch 40/100\n",
      "1/1 [==============================] - 0s 48ms/step - loss: 0.2387 - categorical_accuracy: 0.9732 - val_loss: 0.2852 - val_categorical_accuracy: 0.9474\n",
      "Epoch 41/100\n",
      "1/1 [==============================] - 0s 39ms/step - loss: 0.2275 - categorical_accuracy: 0.9732 - val_loss: 0.2771 - val_categorical_accuracy: 0.9474\n",
      "Epoch 42/100\n",
      "1/1 [==============================] - 0s 49ms/step - loss: 0.2173 - categorical_accuracy: 0.9732 - val_loss: 0.2693 - val_categorical_accuracy: 0.9474\n",
      "Epoch 43/100\n",
      "1/1 [==============================] - 0s 43ms/step - loss: 0.2076 - categorical_accuracy: 0.9732 - val_loss: 0.2605 - val_categorical_accuracy: 0.9474\n",
      "Epoch 44/100\n",
      "1/1 [==============================] - 0s 46ms/step - loss: 0.1982 - categorical_accuracy: 0.9732 - val_loss: 0.2511 - val_categorical_accuracy: 0.9474\n",
      "Epoch 45/100\n",
      "1/1 [==============================] - 0s 32ms/step - loss: 0.1891 - categorical_accuracy: 0.9732 - val_loss: 0.2419 - val_categorical_accuracy: 0.9474\n",
      "Epoch 46/100\n",
      "1/1 [==============================] - 0s 44ms/step - loss: 0.1803 - categorical_accuracy: 0.9732 - val_loss: 0.2337 - val_categorical_accuracy: 0.9474\n",
      "Epoch 47/100\n",
      "1/1 [==============================] - 0s 41ms/step - loss: 0.1716 - categorical_accuracy: 0.9732 - val_loss: 0.2266 - val_categorical_accuracy: 0.9474\n",
      "Epoch 48/100\n",
      "1/1 [==============================] - 0s 41ms/step - loss: 0.1633 - categorical_accuracy: 0.9732 - val_loss: 0.2206 - val_categorical_accuracy: 0.9474\n",
      "Epoch 49/100\n",
      "1/1 [==============================] - 0s 43ms/step - loss: 0.1557 - categorical_accuracy: 0.9732 - val_loss: 0.2145 - val_categorical_accuracy: 0.9474\n",
      "Epoch 50/100\n",
      "1/1 [==============================] - 0s 46ms/step - loss: 0.1484 - categorical_accuracy: 0.9732 - val_loss: 0.2077 - val_categorical_accuracy: 0.9474\n"
     ]
    },
    {
     "name": "stdout",
     "output_type": "stream",
     "text": [
      "Epoch 51/100\n",
      "1/1 [==============================] - 0s 49ms/step - loss: 0.1415 - categorical_accuracy: 0.9732 - val_loss: 0.2007 - val_categorical_accuracy: 0.9474\n",
      "Epoch 52/100\n",
      "1/1 [==============================] - 0s 38ms/step - loss: 0.1350 - categorical_accuracy: 0.9732 - val_loss: 0.1948 - val_categorical_accuracy: 0.9474\n",
      "Epoch 53/100\n",
      "1/1 [==============================] - 0s 45ms/step - loss: 0.1288 - categorical_accuracy: 0.9732 - val_loss: 0.1901 - val_categorical_accuracy: 0.9474\n",
      "Epoch 54/100\n",
      "1/1 [==============================] - 0s 50ms/step - loss: 0.1229 - categorical_accuracy: 0.9732 - val_loss: 0.1859 - val_categorical_accuracy: 0.9474\n",
      "Epoch 55/100\n",
      "1/1 [==============================] - 0s 50ms/step - loss: 0.1174 - categorical_accuracy: 0.9732 - val_loss: 0.1813 - val_categorical_accuracy: 0.9474\n",
      "Epoch 56/100\n",
      "1/1 [==============================] - 0s 50ms/step - loss: 0.1121 - categorical_accuracy: 0.9732 - val_loss: 0.1761 - val_categorical_accuracy: 0.9474\n",
      "Epoch 57/100\n",
      "1/1 [==============================] - 0s 48ms/step - loss: 0.1073 - categorical_accuracy: 0.9732 - val_loss: 0.1714 - val_categorical_accuracy: 0.9737\n",
      "Epoch 58/100\n",
      "1/1 [==============================] - 0s 45ms/step - loss: 0.1027 - categorical_accuracy: 0.9821 - val_loss: 0.1679 - val_categorical_accuracy: 0.9737\n",
      "Epoch 59/100\n",
      "1/1 [==============================] - 0s 46ms/step - loss: 0.0985 - categorical_accuracy: 0.9821 - val_loss: 0.1651 - val_categorical_accuracy: 0.9737\n",
      "Epoch 60/100\n",
      "1/1 [==============================] - 0s 40ms/step - loss: 0.0947 - categorical_accuracy: 0.9821 - val_loss: 0.1621 - val_categorical_accuracy: 0.9737\n",
      "Epoch 61/100\n",
      "1/1 [==============================] - 0s 47ms/step - loss: 0.0911 - categorical_accuracy: 0.9821 - val_loss: 0.1590 - val_categorical_accuracy: 0.9737\n",
      "Epoch 62/100\n",
      "1/1 [==============================] - 0s 52ms/step - loss: 0.0878 - categorical_accuracy: 0.9821 - val_loss: 0.1556 - val_categorical_accuracy: 0.9737\n",
      "Epoch 63/100\n",
      "1/1 [==============================] - 0s 42ms/step - loss: 0.0846 - categorical_accuracy: 0.9821 - val_loss: 0.1534 - val_categorical_accuracy: 0.9737\n",
      "Epoch 64/100\n",
      "1/1 [==============================] - 0s 52ms/step - loss: 0.0818 - categorical_accuracy: 0.9821 - val_loss: 0.1517 - val_categorical_accuracy: 0.9737\n",
      "Epoch 65/100\n",
      "1/1 [==============================] - 0s 49ms/step - loss: 0.0791 - categorical_accuracy: 0.9821 - val_loss: 0.1497 - val_categorical_accuracy: 0.9737\n",
      "Epoch 66/100\n",
      "1/1 [==============================] - 0s 40ms/step - loss: 0.0766 - categorical_accuracy: 0.9821 - val_loss: 0.1474 - val_categorical_accuracy: 0.9737\n",
      "Epoch 67/100\n",
      "1/1 [==============================] - 0s 33ms/step - loss: 0.0743 - categorical_accuracy: 0.9821 - val_loss: 0.1454 - val_categorical_accuracy: 0.9737\n",
      "Epoch 68/100\n",
      "1/1 [==============================] - 0s 45ms/step - loss: 0.0722 - categorical_accuracy: 0.9821 - val_loss: 0.1441 - val_categorical_accuracy: 0.9737\n",
      "Epoch 69/100\n",
      "1/1 [==============================] - 0s 40ms/step - loss: 0.0702 - categorical_accuracy: 0.9821 - val_loss: 0.1431 - val_categorical_accuracy: 0.9737\n",
      "Epoch 70/100\n",
      "1/1 [==============================] - 0s 50ms/step - loss: 0.0683 - categorical_accuracy: 0.9821 - val_loss: 0.1418 - val_categorical_accuracy: 0.9737\n",
      "Epoch 71/100\n",
      "1/1 [==============================] - 0s 45ms/step - loss: 0.0666 - categorical_accuracy: 0.9821 - val_loss: 0.1403 - val_categorical_accuracy: 0.9737\n",
      "Epoch 72/100\n",
      "1/1 [==============================] - 0s 34ms/step - loss: 0.0650 - categorical_accuracy: 0.9821 - val_loss: 0.1391 - val_categorical_accuracy: 0.9737\n",
      "Epoch 73/100\n",
      "1/1 [==============================] - 0s 47ms/step - loss: 0.0635 - categorical_accuracy: 0.9821 - val_loss: 0.1384 - val_categorical_accuracy: 0.9737\n",
      "Epoch 74/100\n",
      "1/1 [==============================] - 0s 44ms/step - loss: 0.0620 - categorical_accuracy: 0.9821 - val_loss: 0.1376 - val_categorical_accuracy: 0.9737\n",
      "Epoch 75/100\n",
      "1/1 [==============================] - 0s 46ms/step - loss: 0.0607 - categorical_accuracy: 0.9821 - val_loss: 0.1366 - val_categorical_accuracy: 0.9737\n",
      "Epoch 76/100\n",
      "1/1 [==============================] - 0s 42ms/step - loss: 0.0595 - categorical_accuracy: 0.9821 - val_loss: 0.1357 - val_categorical_accuracy: 0.9737\n",
      "Epoch 77/100\n",
      "1/1 [==============================] - 0s 44ms/step - loss: 0.0583 - categorical_accuracy: 0.9821 - val_loss: 0.1351 - val_categorical_accuracy: 0.9737\n",
      "Epoch 78/100\n",
      "1/1 [==============================] - 0s 42ms/step - loss: 0.0572 - categorical_accuracy: 0.9821 - val_loss: 0.1347 - val_categorical_accuracy: 0.9737\n",
      "Epoch 79/100\n",
      "1/1 [==============================] - 0s 48ms/step - loss: 0.0562 - categorical_accuracy: 0.9821 - val_loss: 0.1342 - val_categorical_accuracy: 0.9737\n",
      "Epoch 80/100\n",
      "1/1 [==============================] - 0s 46ms/step - loss: 0.0552 - categorical_accuracy: 0.9821 - val_loss: 0.1335 - val_categorical_accuracy: 0.9737\n",
      "Epoch 81/100\n",
      "1/1 [==============================] - 0s 41ms/step - loss: 0.0543 - categorical_accuracy: 0.9821 - val_loss: 0.1330 - val_categorical_accuracy: 0.9737\n",
      "Epoch 82/100\n",
      "1/1 [==============================] - 0s 48ms/step - loss: 0.0534 - categorical_accuracy: 0.9821 - val_loss: 0.1328 - val_categorical_accuracy: 0.9737\n",
      "Epoch 83/100\n",
      "1/1 [==============================] - 0s 49ms/step - loss: 0.0526 - categorical_accuracy: 0.9821 - val_loss: 0.1324 - val_categorical_accuracy: 0.9737\n",
      "Epoch 84/100\n",
      "1/1 [==============================] - 0s 41ms/step - loss: 0.0518 - categorical_accuracy: 0.9821 - val_loss: 0.1320 - val_categorical_accuracy: 0.9737\n",
      "Epoch 85/100\n",
      "1/1 [==============================] - 0s 47ms/step - loss: 0.0511 - categorical_accuracy: 0.9821 - val_loss: 0.1316 - val_categorical_accuracy: 0.9737\n",
      "Epoch 86/100\n",
      "1/1 [==============================] - 0s 34ms/step - loss: 0.0504 - categorical_accuracy: 0.9821 - val_loss: 0.1315 - val_categorical_accuracy: 0.9737\n",
      "Epoch 87/100\n",
      "1/1 [==============================] - 0s 52ms/step - loss: 0.0497 - categorical_accuracy: 0.9821 - val_loss: 0.1314 - val_categorical_accuracy: 0.9737\n",
      "Epoch 88/100\n",
      "1/1 [==============================] - 0s 46ms/step - loss: 0.0491 - categorical_accuracy: 0.9821 - val_loss: 0.1311 - val_categorical_accuracy: 0.9737\n",
      "Epoch 89/100\n",
      "1/1 [==============================] - 0s 40ms/step - loss: 0.0485 - categorical_accuracy: 0.9821 - val_loss: 0.1309 - val_categorical_accuracy: 0.9737\n",
      "Epoch 90/100\n",
      "1/1 [==============================] - 0s 51ms/step - loss: 0.0479 - categorical_accuracy: 0.9821 - val_loss: 0.1307 - val_categorical_accuracy: 0.9737\n",
      "Epoch 91/100\n",
      "1/1 [==============================] - 0s 38ms/step - loss: 0.0473 - categorical_accuracy: 0.9821 - val_loss: 0.1308 - val_categorical_accuracy: 0.9737\n",
      "Epoch 92/100\n",
      "1/1 [==============================] - 0s 45ms/step - loss: 0.0468 - categorical_accuracy: 0.9821 - val_loss: 0.1306 - val_categorical_accuracy: 0.9737\n"
     ]
    }
   ],
   "source": [
    "history = model.fit(train_X,y_train_encoded,\n",
    "                   validation_data = (val_X,y_val_encoded),\n",
    "                   batch_size = 256,\n",
    "                   epochs = 100,\n",
    "                   callbacks = [callback])"
   ]
  },
  {
   "cell_type": "code",
   "execution_count": 72,
   "id": "9d4c7d1e",
   "metadata": {},
   "outputs": [
    {
     "data": {
      "text/html": [
       "<div>\n",
       "<style scoped>\n",
       "    .dataframe tbody tr th:only-of-type {\n",
       "        vertical-align: middle;\n",
       "    }\n",
       "\n",
       "    .dataframe tbody tr th {\n",
       "        vertical-align: top;\n",
       "    }\n",
       "\n",
       "    .dataframe thead th {\n",
       "        text-align: right;\n",
       "    }\n",
       "</style>\n",
       "<table border=\"1\" class=\"dataframe\">\n",
       "  <thead>\n",
       "    <tr style=\"text-align: right;\">\n",
       "      <th></th>\n",
       "      <th>loss</th>\n",
       "      <th>categorical_accuracy</th>\n",
       "      <th>val_loss</th>\n",
       "      <th>val_categorical_accuracy</th>\n",
       "    </tr>\n",
       "  </thead>\n",
       "  <tbody>\n",
       "    <tr>\n",
       "      <th>87</th>\n",
       "      <td>0.049055</td>\n",
       "      <td>0.982143</td>\n",
       "      <td>0.131143</td>\n",
       "      <td>0.973684</td>\n",
       "    </tr>\n",
       "    <tr>\n",
       "      <th>88</th>\n",
       "      <td>0.048451</td>\n",
       "      <td>0.982143</td>\n",
       "      <td>0.130852</td>\n",
       "      <td>0.973684</td>\n",
       "    </tr>\n",
       "    <tr>\n",
       "      <th>89</th>\n",
       "      <td>0.047874</td>\n",
       "      <td>0.982143</td>\n",
       "      <td>0.130742</td>\n",
       "      <td>0.973684</td>\n",
       "    </tr>\n",
       "    <tr>\n",
       "      <th>90</th>\n",
       "      <td>0.047324</td>\n",
       "      <td>0.982143</td>\n",
       "      <td>0.130756</td>\n",
       "      <td>0.973684</td>\n",
       "    </tr>\n",
       "    <tr>\n",
       "      <th>91</th>\n",
       "      <td>0.046796</td>\n",
       "      <td>0.982143</td>\n",
       "      <td>0.130600</td>\n",
       "      <td>0.973684</td>\n",
       "    </tr>\n",
       "  </tbody>\n",
       "</table>\n",
       "</div>"
      ],
      "text/plain": [
       "        loss  categorical_accuracy  val_loss  val_categorical_accuracy\n",
       "87  0.049055              0.982143  0.131143                  0.973684\n",
       "88  0.048451              0.982143  0.130852                  0.973684\n",
       "89  0.047874              0.982143  0.130742                  0.973684\n",
       "90  0.047324              0.982143  0.130756                  0.973684\n",
       "91  0.046796              0.982143  0.130600                  0.973684"
      ]
     },
     "execution_count": 72,
     "metadata": {},
     "output_type": "execute_result"
    }
   ],
   "source": [
    "history_df = pd.DataFrame(history.history)\n",
    "history_df.tail()"
   ]
  },
  {
   "cell_type": "code",
   "execution_count": 77,
   "id": "1be43001",
   "metadata": {},
   "outputs": [
    {
     "data": {
      "text/plain": [
       "<AxesSubplot:>"
      ]
     },
     "execution_count": 77,
     "metadata": {},
     "output_type": "execute_result"
    },
    {
     "data": {
      "image/png": "[encoded data removed]",
      "text/plain": [
       "<Figure size 432x288 with 1 Axes>"
      ]
     },
     "metadata": {
      "needs_background": "light"
     },
     "output_type": "display_data"
    }
   ],
   "source": [
    "import matplotlib.pyplot as plt\n",
    "import seaborn as sns\n",
    "%matplotlib inline\n",
    "\n",
    "sns.lineplot(data = history_df)"
   ]
  },
  {
   "cell_type": "code",
   "execution_count": 73,
   "id": "fc523189",
   "metadata": {},
   "outputs": [
    {
     "data": {
      "text/plain": [
       "SepalLengthCm    5.8\n",
       "SepalWidthCm     2.6\n",
       "PetalLengthCm    4.0\n",
       "PetalWidthCm     1.2\n",
       "Name: 92, dtype: float64"
      ]
     },
     "execution_count": 73,
     "metadata": {},
     "output_type": "execute_result"
    }
   ],
   "source": [
    "train_X.iloc[1]"
   ]
  },
  {
   "cell_type": "code",
   "execution_count": 74,
   "id": "4001e919",
   "metadata": {},
   "outputs": [
    {
     "data": {
      "text/plain": [
       "0    0.0\n",
       "1    1.0\n",
       "2    0.0\n",
       "Name: 92, dtype: float64"
      ]
     },
     "execution_count": 74,
     "metadata": {},
     "output_type": "execute_result"
    }
   ],
   "source": [
    "y_train_encoded.iloc[1]"
   ]
  },
  {
   "cell_type": "code",
   "execution_count": 75,
   "id": "d89b7e6b",
   "metadata": {},
   "outputs": [],
   "source": [
    "predict = model.predict(train_X.iloc[1].to_numpy().reshape(-1,4))"
   ]
  },
  {
   "cell_type": "code",
   "execution_count": 76,
   "id": "5e671cb9",
   "metadata": {},
   "outputs": [
    {
     "data": {
      "text/plain": [
       "[array([False,  True, False])]"
      ]
     },
     "execution_count": 76,
     "metadata": {},
     "output_type": "execute_result"
    }
   ],
   "source": [
    "predict = [pre > 0.9  for pre in predict ]\n",
    "predict"
   ]
  },
  {
   "cell_type": "code",
   "execution_count": null,
   "id": "dd233057",
   "metadata": {},
   "outputs": [],
   "source": []
  }
 ],
 "metadata": {
  "kernelspec": {
   "display_name": "Python 3",
   "language": "python",
   "name": "python3"
  },
  "language_info": {
   "codemirror_mode": {
    "name": "ipython",
    "version": 3
   },
   "file_extension": ".py",
   "mimetype": "text/x-python",
   "name": "python",
   "nbconvert_exporter": "python",
   "pygments_lexer": "ipython3",
   "version": "3.8.8"
  }
 },
 "nbformat": 4,
 "nbformat_minor": 5
}
